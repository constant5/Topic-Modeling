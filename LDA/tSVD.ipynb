{
 "cells": [
  {
   "cell_type": "code",
   "execution_count": 37,
   "metadata": {
    "collapsed": true
   },
   "outputs": [],
   "source": [
    "from scripts.BZ2Reader import bz2reader\n",
    "from glob import glob\n",
    "import os, re, pickle\n",
    "from pprint import pprint\n",
    "from time import time\n",
    "import pandas as pd\n",
    "import numpy as np\n",
    "import matplotlib.pyplot as plt\n",
    "from sklearn.decomposition import PCA\n",
    "from sklearn.preprocessing import StandardScaler\n",
    "from sklearn.decomposition import TruncatedSVD\n",
    "from sklearn.pipeline import make_pipeline\n",
    "from sklearn.preprocessing import Normalizer\n",
    "from sklearn import metrics\n",
    "from sklearn.feature_extraction.text import HashingVectorizer\n",
    "\n",
    "%matplotlib inline"
   ]
  },
  {
   "cell_type": "code",
   "execution_count": 17,
   "outputs": [],
   "source": [
    "# Args\n",
    "data_dir = \"../data\"\n",
    "num_posts = 100\n",
    "hash_vect = \"models/hash_vect.pk\""
   ],
   "metadata": {
    "collapsed": false,
    "pycharm": {
     "name": "#%%\n"
    }
   }
  },
  {
   "cell_type": "code",
   "execution_count": 4,
   "outputs": [],
   "source": [
    "def data_processing(bz2files, max_lines=-1):\n",
    "    for bz2file in  bz2files:\n",
    "        bzr = bz2reader(fname=bz2file,\n",
    "                        keys=['body'],\n",
    "                        max_lines=max_lines)\n",
    "        for data in bzr.select_keys():\n",
    "            yield data['body']"
   ],
   "metadata": {
    "collapsed": false,
    "pycharm": {
     "name": "#%%\n"
    }
   }
  },
  {
   "cell_type": "code",
   "execution_count": 18,
   "outputs": [
    {
     "name": "stdout",
     "output_type": "stream",
     "text": [
      "loading data... done\n"
     ]
    }
   ],
   "source": [
    "data_path = os.path.join(data_dir, '*.bz2')         # arg var needs fixed\n",
    "bzfile = glob(data_path)\n",
    "d = data_processing(bzfile, num_posts)          # arg var needs fixed\n",
    "print('loading data...', end=' ')\n",
    "data = [l for l in d]\n",
    "print('done')"
   ],
   "metadata": {
    "collapsed": false,
    "pycharm": {
     "name": "#%%\n"
    }
   }
  },
  {
   "cell_type": "code",
   "execution_count": 19,
   "outputs": [
    {
     "name": "stdout",
     "output_type": "stream",
     "text": [
      "processing data... done\n",
      "first 4 posts:\n",
      "['i was thinking 170k max but if we get another player off the books (gibson) '\n",
      " 'there would be a small bit more room to maneuver',\n",
      " 'a baton is more likely to kill someone than a taser',\n",
      " 'cut him a break he probably just finished watching training day ']\n",
      "\n",
      "\n"
     ]
    }
   ],
   "source": [
    "# ### Data processing steps\n",
    "# %%\n",
    "# Remove punctuation\n",
    "print('processing data...', end=' ')\n",
    "data = [re.sub('[,\\\\.!?]', '', x) for x in data]\n",
    "# Convert the titles to lowercase\n",
    "data = [x.lower() for x in data]\n",
    "# Remove post with less than 10 words\n",
    "data = [x for x in data if len(x.split(' '))>10]\n",
    "print('done')\n",
    "# display some data\n",
    "print('first 4 posts:')\n",
    "pprint(data[:3])\n",
    "print('\\n')\n",
    "\n"
   ],
   "metadata": {
    "collapsed": false,
    "pycharm": {
     "name": "#%%\n"
    }
   }
  },
  {
   "cell_type": "code",
   "execution_count": 20,
   "outputs": [
    {
     "name": "stdout",
     "output_type": "stream",
     "text": [
      "loading hash vectorizer... done\n"
     ]
    }
   ],
   "source": [
    "print('loading hash vectorizer...', end=' ')\n",
    "hash_vectorizer = pickle.load(open(hash_vect, 'rb'))\n",
    "hash_data = hash_vectorizer.transform(data)\n",
    "print('done')"
   ],
   "metadata": {
    "collapsed": false,
    "pycharm": {
     "name": "#%%\n"
    }
   }
  },
  {
   "cell_type": "code",
   "execution_count": 21,
   "outputs": [
    {
     "data": {
      "text/plain": "(43, 40000)"
     },
     "execution_count": 21,
     "metadata": {},
     "output_type": "execute_result"
    }
   ],
   "source": [
    "hash_data.shape"
   ],
   "metadata": {
    "collapsed": false,
    "pycharm": {
     "name": "#%%\n"
    }
   }
  },
  {
   "cell_type": "code",
   "execution_count": 14,
   "outputs": [
    {
     "data": {
      "text/plain": "\"you still need heatsinks to get heat from the components into the oil and you need some way to keep the oil circulating around what were you planning on putting on the other side of that tec\\n\\ni'd say just go with normal water cooling water is better for cooling and the tubing gets it to and from the components very efficiently you can still go lower than ambient if you want you can put a chiller in the water reservoir or make a dual-loop system where you have one cold loop that goes by your components a heat exchanger then the hot loop which goes to the radiator\""
     },
     "execution_count": 14,
     "metadata": {},
     "output_type": "execute_result"
    }
   ],
   "source": [
    "data[15]"
   ],
   "metadata": {
    "collapsed": false,
    "pycharm": {
     "name": "#%%\n"
    }
   }
  },
  {
   "cell_type": "code",
   "execution_count": 25,
   "outputs": [],
   "source": [
    "x = StandardScaler(with_mean=False).fit_transform(hash_data)"
   ],
   "metadata": {
    "collapsed": false,
    "pycharm": {
     "name": "#%%\n"
    }
   }
  },
  {
   "cell_type": "code",
   "execution_count": 26,
   "outputs": [
    {
     "data": {
      "text/plain": "                                                   0\n0    (0, 400)\\t6.635044048369953\\n  (0, 985)\\t6.6...\n1    (0, 17735)\\t6.635044048369952\\n  (0, 21024)\\...\n2    (0, 5939)\\t5.0050391918441175\\n  (0, 6389)\\t...\n3    (0, 1693)\\t4.90086445066579\\n  (0, 3568)\\t2....\n4    (0, 4386)\\t5.719356790410685\\n  (0, 4549)\\t6...",
      "text/html": "<div>\n<style scoped>\n    .dataframe tbody tr th:only-of-type {\n        vertical-align: middle;\n    }\n\n    .dataframe tbody tr th {\n        vertical-align: top;\n    }\n\n    .dataframe thead th {\n        text-align: right;\n    }\n</style>\n<table border=\"1\" class=\"dataframe\">\n  <thead>\n    <tr style=\"text-align: right;\">\n      <th></th>\n      <th>0</th>\n    </tr>\n  </thead>\n  <tbody>\n    <tr>\n      <th>0</th>\n      <td>(0, 400)\\t6.635044048369953\\n  (0, 985)\\t6.6...</td>\n    </tr>\n    <tr>\n      <th>1</th>\n      <td>(0, 17735)\\t6.635044048369952\\n  (0, 21024)\\...</td>\n    </tr>\n    <tr>\n      <th>2</th>\n      <td>(0, 5939)\\t5.0050391918441175\\n  (0, 6389)\\t...</td>\n    </tr>\n    <tr>\n      <th>3</th>\n      <td>(0, 1693)\\t4.90086445066579\\n  (0, 3568)\\t2....</td>\n    </tr>\n    <tr>\n      <th>4</th>\n      <td>(0, 4386)\\t5.719356790410685\\n  (0, 4549)\\t6...</td>\n    </tr>\n  </tbody>\n</table>\n</div>"
     },
     "execution_count": 26,
     "metadata": {},
     "output_type": "execute_result"
    }
   ],
   "source": [
    "pd.DataFrame(data = x).head()\n",
    "\n"
   ],
   "metadata": {
    "collapsed": false,
    "pycharm": {
     "name": "#%%\n"
    }
   }
  },
  {
   "cell_type": "code",
   "execution_count": 27,
   "outputs": [
    {
     "ename": "TypeError",
     "evalue": "PCA does not support sparse input. See TruncatedSVD for a possible alternative.",
     "output_type": "error",
     "traceback": [
      "\u001B[0;31m---------------------------------------------------------------------------\u001B[0m",
      "\u001B[0;31mTypeError\u001B[0m                                 Traceback (most recent call last)",
      "\u001B[0;32m<ipython-input-27-2ec54ee5d31a>\u001B[0m in \u001B[0;36m<module>\u001B[0;34m\u001B[0m\n\u001B[1;32m      1\u001B[0m \u001B[0mpca\u001B[0m \u001B[0;34m=\u001B[0m \u001B[0mPCA\u001B[0m\u001B[0;34m(\u001B[0m\u001B[0mn_components\u001B[0m\u001B[0;34m=\u001B[0m\u001B[0;36m2\u001B[0m\u001B[0;34m)\u001B[0m\u001B[0;34m\u001B[0m\u001B[0;34m\u001B[0m\u001B[0m\n\u001B[0;32m----> 2\u001B[0;31m \u001B[0mprincipalComponents\u001B[0m \u001B[0;34m=\u001B[0m \u001B[0mpca\u001B[0m\u001B[0;34m.\u001B[0m\u001B[0mfit_transform\u001B[0m\u001B[0;34m(\u001B[0m\u001B[0mx\u001B[0m\u001B[0;34m)\u001B[0m\u001B[0;34m\u001B[0m\u001B[0;34m\u001B[0m\u001B[0m\n\u001B[0m\u001B[1;32m      3\u001B[0m \u001B[0;34m\u001B[0m\u001B[0m\n",
      "\u001B[0;32m/Library/Frameworks/Python.framework/Versions/3.8/lib/python3.8/site-packages/sklearn/decomposition/_pca.py\u001B[0m in \u001B[0;36mfit_transform\u001B[0;34m(self, X, y)\u001B[0m\n\u001B[1;32m    367\u001B[0m         \u001B[0mC\u001B[0m\u001B[0;34m-\u001B[0m\u001B[0mordered\u001B[0m \u001B[0marray\u001B[0m\u001B[0;34m,\u001B[0m \u001B[0muse\u001B[0m \u001B[0;34m'np.ascontiguousarray'\u001B[0m\u001B[0;34m.\u001B[0m\u001B[0;34m\u001B[0m\u001B[0;34m\u001B[0m\u001B[0m\n\u001B[1;32m    368\u001B[0m         \"\"\"\n\u001B[0;32m--> 369\u001B[0;31m         \u001B[0mU\u001B[0m\u001B[0;34m,\u001B[0m \u001B[0mS\u001B[0m\u001B[0;34m,\u001B[0m \u001B[0mV\u001B[0m \u001B[0;34m=\u001B[0m \u001B[0mself\u001B[0m\u001B[0;34m.\u001B[0m\u001B[0m_fit\u001B[0m\u001B[0;34m(\u001B[0m\u001B[0mX\u001B[0m\u001B[0;34m)\u001B[0m\u001B[0;34m\u001B[0m\u001B[0;34m\u001B[0m\u001B[0m\n\u001B[0m\u001B[1;32m    370\u001B[0m         \u001B[0mU\u001B[0m \u001B[0;34m=\u001B[0m \u001B[0mU\u001B[0m\u001B[0;34m[\u001B[0m\u001B[0;34m:\u001B[0m\u001B[0;34m,\u001B[0m \u001B[0;34m:\u001B[0m\u001B[0mself\u001B[0m\u001B[0;34m.\u001B[0m\u001B[0mn_components_\u001B[0m\u001B[0;34m]\u001B[0m\u001B[0;34m\u001B[0m\u001B[0;34m\u001B[0m\u001B[0m\n\u001B[1;32m    371\u001B[0m \u001B[0;34m\u001B[0m\u001B[0m\n",
      "\u001B[0;32m/Library/Frameworks/Python.framework/Versions/3.8/lib/python3.8/site-packages/sklearn/decomposition/_pca.py\u001B[0m in \u001B[0;36m_fit\u001B[0;34m(self, X)\u001B[0m\n\u001B[1;32m    385\u001B[0m         \u001B[0;31m# This is more informative than the generic one raised by check_array.\u001B[0m\u001B[0;34m\u001B[0m\u001B[0;34m\u001B[0m\u001B[0;34m\u001B[0m\u001B[0m\n\u001B[1;32m    386\u001B[0m         \u001B[0;32mif\u001B[0m \u001B[0missparse\u001B[0m\u001B[0;34m(\u001B[0m\u001B[0mX\u001B[0m\u001B[0;34m)\u001B[0m\u001B[0;34m:\u001B[0m\u001B[0;34m\u001B[0m\u001B[0;34m\u001B[0m\u001B[0m\n\u001B[0;32m--> 387\u001B[0;31m             raise TypeError('PCA does not support sparse input. See '\n\u001B[0m\u001B[1;32m    388\u001B[0m                             'TruncatedSVD for a possible alternative.')\n\u001B[1;32m    389\u001B[0m \u001B[0;34m\u001B[0m\u001B[0m\n",
      "\u001B[0;31mTypeError\u001B[0m: PCA does not support sparse input. See TruncatedSVD for a possible alternative."
     ]
    }
   ],
   "source": [
    "pca = PCA(n_components=2)\n",
    "principalComponents = pca.fit_transform(x)"
   ],
   "metadata": {
    "collapsed": false,
    "pycharm": {
     "name": "#%%\n"
    }
   }
  },
  {
   "cell_type": "code",
   "execution_count": 40,
   "outputs": [
    {
     "name": "stdout",
     "output_type": "stream",
     "text": [
      "Performing dimensionality reduction using LSA\n",
      "done in 0.065866s\n",
      "Explained variance of the SVD step: 5%\n"
     ]
    }
   ],
   "source": [
    "print(\"Performing dimensionality reduction using LSA\")\n",
    "t0 = time()\n",
    "# Vectorizer results are normalized, which makes KMeans behave as\n",
    "# spherical k-means for better results. Since LSA/SVD results are\n",
    "# not normalized, we have to redo the normalization.\n",
    "svd = TruncatedSVD(n_components=2)\n",
    "normalizer = Normalizer(copy=False)\n",
    "lsa = make_pipeline(svd, normalizer)\n",
    "\n",
    "X = lsa.fit_transform(hash_data)\n",
    "\n",
    "print(\"done in %fs\" % (time() - t0))\n",
    "\n",
    "explained_variance = svd.explained_variance_ratio_.sum()\n",
    "print(\"Explained variance of the SVD step: {}%\".format(\n",
    "    int(explained_variance * 100)))"
   ],
   "metadata": {
    "collapsed": false,
    "pycharm": {
     "name": "#%%\n"
    }
   }
  },
  {
   "cell_type": "code",
   "execution_count": 55,
   "outputs": [
    {
     "data": {
      "text/plain": "<Figure size 432x288 with 1 Axes>",
      "image/png": "[encoded data removed]"
     },
     "metadata": {
      "needs_background": "light"
     },
     "output_type": "display_data"
    }
   ],
   "source": [
    "plt.plot(X.T[0], X.T[1], 'ro')\n",
    "plt.show()"
   ],
   "metadata": {
    "collapsed": false,
    "pycharm": {
     "name": "#%%\n"
    }
   }
  },
  {
   "cell_type": "code",
   "execution_count": 45,
   "outputs": [
    {
     "data": {
      "text/plain": "array([[ 0.51655035,  0.85625682],\n       [ 0.11144135, -0.99377101],\n       [ 0.45881   ,  0.8885344 ],\n       [ 0.60818884,  0.79379238],\n       [ 0.42732225,  0.90409938],\n       [ 0.57974464, -0.81479823],\n       [ 0.66137206, -0.75005799],\n       [ 0.80923506,  0.587485  ],\n       [ 0.94199536, -0.3356259 ],\n       [ 0.49731153, -0.86757204],\n       [ 0.88504832, -0.46549916],\n       [ 0.8236965 ,  0.56703093],\n       [ 0.99419186, -0.10762224],\n       [ 0.678697  , -0.73441839],\n       [ 0.91379247,  0.4061814 ],\n       [ 0.91729981,  0.39819726],\n       [ 0.64739582,  0.76215395],\n       [-0.03613296, -0.99934699],\n       [ 0.82341591,  0.56743831],\n       [ 0.71430098, -0.69983864],\n       [ 0.72428507,  0.68950064],\n       [ 0.77893729, -0.62710182],\n       [ 0.46374786, -0.88596723],\n       [ 0.98641937, -0.16424625],\n       [ 0.31097874,  0.95041687],\n       [ 0.44082312, -0.89759399],\n       [ 0.38900009,  0.92123772],\n       [ 0.47831824, -0.87818658],\n       [ 0.49396734,  0.86948046],\n       [ 0.83661823,  0.5477864 ],\n       [ 0.50861208,  0.86099579],\n       [ 0.91409558, -0.40549879],\n       [ 0.90411179,  0.42729599],\n       [ 0.38856166, -0.92142273],\n       [ 0.99953367,  0.03053578],\n       [ 0.55106651, -0.83446133],\n       [ 0.99983206, -0.01832642],\n       [ 0.04562618, -0.99895858],\n       [ 0.88091148,  0.47328107],\n       [ 0.45435448,  0.89082097],\n       [ 0.74052876,  0.67202467],\n       [ 0.43054478, -0.90256922],\n       [ 0.78439733, -0.62025868]])"
     },
     "execution_count": 45,
     "metadata": {},
     "output_type": "execute_result"
    }
   ],
   "source": [
    "X"
   ],
   "metadata": {
    "collapsed": false,
    "pycharm": {
     "name": "#%%\n"
    }
   }
  },
  {
   "cell_type": "code",
   "execution_count": 52,
   "outputs": [
    {
     "data": {
      "text/plain": "array([ 0.85625682, -0.99377101,  0.8885344 ,  0.79379238,  0.90409938,\n       -0.81479823, -0.75005799,  0.587485  , -0.3356259 , -0.86757204,\n       -0.46549916,  0.56703093, -0.10762224, -0.73441839,  0.4061814 ,\n        0.39819726,  0.76215395, -0.99934699,  0.56743831, -0.69983864,\n        0.68950064, -0.62710182, -0.88596723, -0.16424625,  0.95041687,\n       -0.89759399,  0.92123772, -0.87818658,  0.86948046,  0.5477864 ,\n        0.86099579, -0.40549879,  0.42729599, -0.92142273,  0.03053578,\n       -0.83446133, -0.01832642, -0.99895858,  0.47328107,  0.89082097,\n        0.67202467, -0.90256922, -0.62025868])"
     },
     "execution_count": 52,
     "metadata": {},
     "output_type": "execute_result"
    }
   ],
   "source": [
    "X.T[1]"
   ],
   "metadata": {
    "collapsed": false,
    "pycharm": {
     "name": "#%%\n"
    }
   }
  },
  {
   "cell_type": "code",
   "execution_count": null,
   "outputs": [],
   "source": [],
   "metadata": {
    "collapsed": false,
    "pycharm": {
     "name": "#%%\n"
    }
   }
  }
 ],
 "metadata": {
  "kernelspec": {
   "display_name": "Python 3",
   "language": "python",
   "name": "python3"
  },
  "language_info": {
   "codemirror_mode": {
    "name": "ipython",
    "version": 2
   },
   "file_extension": ".py",
   "mimetype": "text/x-python",
   "name": "python",
   "nbconvert_exporter": "python",
   "pygments_lexer": "ipython2",
   "version": "2.7.6"
  }
 },
 "nbformat": 4,
 "nbformat_minor": 0
}