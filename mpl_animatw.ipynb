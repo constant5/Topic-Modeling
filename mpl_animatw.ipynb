{
 "metadata": {
  "language_info": {
   "codemirror_mode": {
    "name": "ipython",
    "version": 3
   },
   "file_extension": ".py",
   "mimetype": "text/x-python",
   "name": "python",
   "nbconvert_exporter": "python",
   "pygments_lexer": "ipython3",
   "version": "3.7.0-final"
  },
  "orig_nbformat": 2,
  "kernelspec": {
   "name": "Python 3.7.0 64-bit ('topic-model-env': conda)",
   "display_name": "Python 3.7.0 64-bit ('topic-model-env': conda)",
   "metadata": {
    "interpreter": {
     "hash": "728521e66b4abda82148058f429f75546517819080561c712915dfe97d207d65"
    }
   }
  }
 },
 "nbformat": 4,
 "nbformat_minor": 2,
 "cells": [
  {
   "cell_type": "code",
   "execution_count": 5,
   "metadata": {},
   "outputs": [
    {
     "output_type": "stream",
     "name": "stdout",
     "text": [
      "500\n"
     ]
    }
   ],
   "source": [
    "import numpy as np\n",
    "import matplotlib.pyplot as plt\n",
    "from matplotlib.animation import FuncAnimation\n",
    "import scipy.stats as ss\n",
    "import seaborn as sns\n",
    "x = np.linspace(0, 9, 200)\n",
    "pred = np.random.randint(1,8, 500)\n",
    "print(len(pred))"
   ]
  },
  {
   "cell_type": "code",
   "execution_count": 8,
   "metadata": {},
   "outputs": [],
   "source": [
    "\n",
    "\n",
    "# _, pred = self.get_topic_predict(list(self.Comments['body']))\n",
    "# pred = [p+1 for p in pred]\n",
    "%matplotlib tk\n",
    "\n",
    "def norm_pdf(x, i):\n",
    "    mu = np.mean(pred[:i])\n",
    "    sigma = np.std(pred[:i])\n",
    "    return ss.norm.pdf(x, mu, sigma)\n",
    "\n",
    "\n",
    "class UpdateDist:\n",
    "    def __init__(self, ax):\n",
    "        sns.set_style('darkgrid')\n",
    "        self.line, = ax.plot([], [], 'k-')\n",
    "        self.text = ax.text(0.1,.95,'')\n",
    "        self.x = np.linspace(0, 9, 200)\n",
    "        self.ax = ax\n",
    "        self.freeze = []\n",
    "\n",
    "        # Set up plot parameters\n",
    "        self.ax.set_xlim(0, 10)\n",
    "        self.ax.set_ylim(0, 1)\n",
    "        self.ax.grid(True)\n",
    "\n",
    "        # This vertical line represents the theoretical value, to\n",
    "        # which the plotted distribution should converge.\n",
    "        for i in range(10):\n",
    "            self.ax.axvline(i, linestyle='--', color='black')\n",
    "\n",
    "\n",
    "    def __call__(self, i):\n",
    "        # This way the plot can continuously run and we just keep\n",
    "        # watching new realizations of the process\n",
    "        y =  norm_pdf(self.x, i)\n",
    "        self.line.set_data(self.x, y)\n",
    "        self.text.set_text(f't={i}')\n",
    "        \n",
    "\n",
    "        if i > 25:\n",
    "            ys = [norm_pdf(self.x, _i) for _i in range(0,i,25)]\n",
    "\n",
    "            for _y in ys: self.freeze.append(self.ax.plot(self.x, _y))\n",
    "\n",
    "        return self.line, self.text, \n",
    "# Fixing random state for reproducibility\n",
    "np.random.seed(19680801)\n",
    "\n"
   ]
  },
  {
   "cell_type": "code",
   "execution_count": 9,
   "metadata": {},
   "outputs": [],
   "source": [
    "\n",
    "fig, ax = plt.subplots()\n",
    "ud = UpdateDist(ax)\n",
    "anim = FuncAnimation(fig, ud, frames=len(pred), interval=100, blit=True)\n",
    "plt.show()"
   ]
  },
  {
   "cell_type": "code",
   "execution_count": 15,
   "metadata": {},
   "outputs": [],
   "source": [
    "import pandas as pd\n",
    "fig, ax = plt.subplots()\n",
    "x = np.linspace(0, 9, 200)\n",
    "ys = [norm_pdf(x, _i) for _i in range(0,len(pred),25)]\n",
    "for _y in ys: plt.scatter(x, _y, s=1)\n",
    "plt.show()"
   ]
  },
  {
   "cell_type": "code",
   "execution_count": 5,
   "metadata": {},
   "outputs": [],
   "source": [
    "\n",
    "for i in range(0,50, 25):\n",
    "    norm_pdf(x, i)"
   ]
  },
  {
   "cell_type": "code",
   "execution_count": 4,
   "metadata": {},
   "outputs": [
    {
     "output_type": "execute_result",
     "data": {
      "text/plain": [
       "array([2.86642057e-04, 3.24827483e-04, 3.67681789e-04, 4.15717176e-04,\n",
       "       4.69494287e-04, 5.29625824e-04, 5.96780314e-04, 6.71686038e-04,\n",
       "       7.55135086e-04, 8.47987546e-04, 9.51175804e-04, 1.06570894e-03,\n",
       "       1.19267722e-03, 1.33325657e-03, 1.48871319e-03, 1.66040807e-03,\n",
       "       1.84980152e-03, 2.05845759e-03, 2.28804843e-03, 2.54035843e-03,\n",
       "       2.81728821e-03, 3.12085833e-03, 3.45321268e-03, 3.81662152e-03,\n",
       "       4.21348410e-03, 4.64633073e-03, 5.11782435e-03, 5.63076145e-03,\n",
       "       6.18807227e-03, 6.79282023e-03, 7.44820055e-03, 8.15753787e-03,\n",
       "       8.92428294e-03, 9.75200824e-03, 1.06444024e-02, 1.16052635e-02,\n",
       "       1.26384909e-02, 1.37480763e-02, 1.49380924e-02, 1.62126813e-02,\n",
       "       1.75760406e-02, 1.90324082e-02, 2.05860459e-02, 2.22412209e-02,\n",
       "       2.40021867e-02, 2.58731609e-02, 2.78583035e-02, 2.99616922e-02,\n",
       "       3.21872970e-02, 3.45389532e-02, 3.70203339e-02, 3.96349202e-02,\n",
       "       4.23859714e-02, 4.52764940e-02, 4.83092099e-02, 5.14865243e-02,\n",
       "       5.48104934e-02, 5.82827914e-02, 6.19046785e-02, 6.56769683e-02,\n",
       "       6.95999965e-02, 7.36735903e-02, 7.78970385e-02, 8.22690639e-02,\n",
       "       8.67877962e-02, 9.14507478e-02, 9.62547915e-02, 1.01196141e-01,\n",
       "       1.06270332e-01, 1.11472213e-01, 1.16795929e-01, 1.22234917e-01,\n",
       "       1.27781904e-01, 1.33428905e-01, 1.39167231e-01, 1.44987495e-01,\n",
       "       1.50879628e-01, 1.56832894e-01, 1.62835918e-01, 1.68876706e-01,\n",
       "       1.74942686e-01, 1.81020737e-01, 1.87097231e-01, 1.93158084e-01,\n",
       "       1.99188799e-01, 2.05174524e-01, 2.11100106e-01, 2.16950155e-01,\n",
       "       2.22709105e-01, 2.28361285e-01, 2.33890983e-01, 2.39282521e-01,\n",
       "       2.44520327e-01, 2.49589009e-01, 2.54473429e-01, 2.59158777e-01,\n",
       "       2.63630649e-01, 2.67875116e-01, 2.71878798e-01, 2.75628934e-01,\n",
       "       2.79113451e-01, 2.82321026e-01, 2.85241148e-01, 2.87864179e-01,\n",
       "       2.90181399e-01, 2.92185063e-01, 2.93868440e-01, 2.95225849e-01,\n",
       "       2.96252695e-01, 2.96945491e-01, 2.97301880e-01, 2.97320649e-01,\n",
       "       2.97001734e-01, 2.96346221e-01, 2.95356341e-01, 2.94035454e-01,\n",
       "       2.92388035e-01, 2.90419645e-01, 2.88136899e-01, 2.85547435e-01,\n",
       "       2.82659863e-01, 2.79483724e-01, 2.76029434e-01, 2.72308227e-01,\n",
       "       2.68332099e-01, 2.64113736e-01, 2.59666453e-01, 2.55004121e-01,\n",
       "       2.50141096e-01, 2.45092145e-01, 2.39872374e-01, 2.34497151e-01,\n",
       "       2.28982032e-01, 2.23342685e-01, 2.17594823e-01, 2.11754125e-01,\n",
       "       2.05836172e-01, 1.99856377e-01, 1.93829921e-01, 1.87771694e-01,\n",
       "       1.81696233e-01, 1.75617674e-01, 1.69549696e-01, 1.63505476e-01,\n",
       "       1.57497654e-01, 1.51538286e-01, 1.45638818e-01, 1.39810059e-01,\n",
       "       1.34062153e-01, 1.28404562e-01, 1.22846055e-01, 1.17394695e-01,\n",
       "       1.12057834e-01, 1.06842114e-01, 1.01753468e-01, 9.67971255e-02,\n",
       "       9.19776264e-02, 8.72988316e-02, 8.27639406e-02, 7.83755110e-02,\n",
       "       7.41354804e-02, 7.00451910e-02, 6.61054151e-02, 6.23163842e-02,\n",
       "       5.86778174e-02, 5.51889526e-02, 5.18485779e-02, 4.86550634e-02,\n",
       "       4.56063937e-02, 4.27002008e-02, 3.99337963e-02, 3.73042038e-02,\n",
       "       3.48081906e-02, 3.24422987e-02, 3.02028749e-02, 2.80861004e-02,\n",
       "       2.60880190e-02, 2.42045635e-02, 2.24315820e-02, 2.07648620e-02,\n",
       "       1.92001531e-02, 1.77331884e-02, 1.63597047e-02, 1.50754606e-02,\n",
       "       1.38762532e-02, 1.27579336e-02, 1.17164206e-02, 1.07477132e-02,\n",
       "       9.84790107e-03, 9.01317456e-03, 8.23983251e-03, 7.52428923e-03,\n",
       "       6.86308021e-03, 6.25286660e-03, 5.69043870e-03, 5.17271833e-03,\n",
       "       4.69676042e-03, 4.25975363e-03, 3.85902019e-03, 3.49201512e-03])"
      ]
     },
     "metadata": {},
     "execution_count": 4
    }
   ],
   "source": [
    "norm_pdf(x, 10)"
   ]
  }
 ]
}